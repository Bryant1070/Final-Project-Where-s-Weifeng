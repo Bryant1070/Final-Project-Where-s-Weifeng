{
 "cells": [
  {
   "cell_type": "markdown",
   "metadata": {},
   "source": [
    "## Introduction:\n",
    "\n",
    "The purpose of this project was to determine which neighborhoods in Pittsburgh that had the most health complications and least health care access. At first, my group members discussed health complications due to Pittsburgh itself e.i. fast food restaurants and air quality. However, after looking through the data sets provided by West Pennsylvania Regional Data center, we came to the conclusion that there were more usable data sets that pertained to more medical health complications. And so, we decided that our submetrics would be: Diabetes rates, Obesity rates, and locations nearby hospitals"
   ]
  },
  {
   "cell_type": "markdown",
   "metadata": {},
   "source": [
    "## Metric no. 2 Hospitals"
   ]
  },
  {
   "cell_type": "markdown",
   "metadata": {},
   "source": [
    "The second data set we used for this project was the approximate loactions of hospitals in Pittsburgh. I will be using how many hospitals in each neighboorhood and will be ranking them from the most hospitals to the least. I will be using the data set called \"Hospitals 2015 Data\", which will have the compiled locations of hospitals and their neighborhoods."
   ]
  },
  {
   "cell_type": "code",
   "execution_count": 53,
   "metadata": {},
   "outputs": [
    {
     "name": "stdout",
     "output_type": "stream",
     "text": [
      "              Facility                                      Address  \\\n",
      "0     UPMC Children's         4401 Penn Avenue Pittsburgh, PA 15224   \n",
      "1           UPMC Magee      300 Halkett Street Pittsburgh, PA 15213   \n",
      "3           UPMC Mercy      1400 Locust Street Pittsburgh, PA 15219   \n",
      "4       UPMC Passavant  9100 Babcock Boulevard Pittsburgh, PA 15237   \n",
      "5    UPMC Presbyterian      3601 Fifth Avenue Pittsburgh, PA  15213   \n",
      "6       UPMC Shadyside        5230 Center Ave Pittsburgh, PA  15232   \n",
      "7  UPMC St. Margaret's       815 Freeport Road Pittsburgh, PA 15215   \n",
      "\n",
      "           Y          X  \n",
      "0  40.467315 -79.953590  \n",
      "1  40.436889 -79.960700  \n",
      "3  40.436137 -79.985285  \n",
      "4  40.573319 -80.014525  \n",
      "5  40.441544 -79.959356  \n",
      "6  40.454845 -79.939793  \n",
      "7  40.489286 -79.895994  \n"
     ]
    },
    {
     "name": "stderr",
     "output_type": "stream",
     "text": [
      "<ipython-input-53-add7b1208f99>:13: UserWarning: Boolean Series key will be reindexed to match DataFrame index.\n",
      "  HDTSV = HD.head(10)[HD['Address'].str.contains(word)]\n"
     ]
    }
   ],
   "source": [
    "import pandas as pd\n",
    "\n",
    "# loading in data set\n",
    "\n",
    "HD = pd.read_csv(\"Hospital_Data.tsv\", sep = '\\t')\n",
    "\n",
    "# specifying the city I am looking for\n",
    "\n",
    "word = 'Pittsburgh, PA'\n",
    "\n",
    "# making it so that only the rows that have the word Pittsburgh, PA and \n",
    "\n",
    "HDTSV = HD.head(10)[HD['Address'].str.contains(word)]\n",
    "\n",
    "# printing \n",
    "\n",
    "print(HDTSV)"
   ]
  },
  {
   "cell_type": "markdown",
   "metadata": {},
   "source": [
    "0 = Bloomfield\n",
    "1 = North Oakland\n",
    "3 = Central Business District\n",
    "4 = Borough of Franklin Park\n",
    "5 = North Oakland\n",
    "6 = Shadyside\n",
    "7 = Downtown\n",
    "\n"
   ]
  },
  {
   "cell_type": "markdown",
   "metadata": {},
   "source": [
    "## Conlusion:\n",
    "\n",
    "From what I can see from the data above, it seems that out of the 90 suburbs in Pittsburgh, there is only 7 that have a hospital in their neighborhood. It also seems that North Oakland has the most hospitals out of all other neighborhoods.\n"
   ]
  },
  {
   "cell_type": "code",
   "execution_count": null,
   "metadata": {},
   "outputs": [],
   "source": []
  }
 ],
 "metadata": {
  "kernelspec": {
   "display_name": "Python 3",
   "language": "python",
   "name": "python3"
  },
  "language_info": {
   "codemirror_mode": {
    "name": "ipython",
    "version": 3
   },
   "file_extension": ".py",
   "mimetype": "text/x-python",
   "name": "python",
   "nbconvert_exporter": "python",
   "pygments_lexer": "ipython3",
   "version": "3.8.3"
  }
 },
 "nbformat": 4,
 "nbformat_minor": 4
}
