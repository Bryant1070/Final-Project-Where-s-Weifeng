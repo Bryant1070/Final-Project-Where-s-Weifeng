{
 "cells": [
  {
   "cell_type": "code",
   "execution_count": null,
   "metadata": {},
   "outputs": [],
   "source": [
    "import pandas as pd\n",
    "\n",
    "# Load the data from a CSV file\n",
    "df = pd.read_csv('ObesityData.csv')\n",
    "\n",
    "# strip the data frame so it only contains the data (columns) that I want\n",
    "stipped_df = df[['City Neighborhood', '2006-2010 estimate of obesity']]\n",
    "\n",
    "#sort the data frame so that the obesity rates are in descending order. \n",
    "new_df_sorted = new_df.sort_values(by='2006-2010 estimate of obesity', ascending=False)\n",
    "\n",
    "# Reset the index to apply weight to eat Neighborhood (Find 1st place)\n",
    "new_df_sorted = new_df_sorted.reset_index(drop=True)\n",
    "\n",
    "new_df_sorted.head(50)"
   ]
  }
 ],
 "metadata": {
  "kernelspec": {
   "display_name": "Python 3",
   "language": "python",
   "name": "python3"
  },
  "language_info": {
   "codemirror_mode": {
    "name": "ipython",
    "version": 3
   },
   "file_extension": ".py",
   "mimetype": "text/x-python",
   "name": "python",
   "nbconvert_exporter": "python",
   "pygments_lexer": "ipython3",
   "version": "3.8.3"
  }
 },
 "nbformat": 4,
 "nbformat_minor": 4
}
