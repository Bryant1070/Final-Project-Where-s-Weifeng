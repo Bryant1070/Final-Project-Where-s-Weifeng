{
 "cells": [
  {
   "cell_type": "markdown",
   "metadata": {},
   "source": [
    "# Introduction \n",
    "\n",
    "For this project we decided to find out which neighborhoods in Pittsburgh had the most health complications/worst access to healthcare. Initially, our goal was to find the neighborhood with the most fast-food restaurants, the poorest air quality, and other factors which might affect the health of an individual. However, after researching for viable datasets, we learned that there was far more data on actual health complications and accessible healthcare facilities. In the effort of using the best data, we decided to use the metrics: obesity rates, diabetes rates, and proximity to hospitals. "
   ]
  },
  {
   "cell_type": "markdown",
   "metadata": {},
   "source": [
    "## Metric no 1. Obesity Rates \n",
    "The First Dataset we used was the **Obesity Rates in Allegheny County**. This data set provided us with the estimated percentage of residents that struggle with obesity. The process of determining the neighborhood with the highest estimated obesity rate required that we create a new data frame from the original to only include neighborhoods in the Pittsburgh municipality and then sort the data frame to provide the organized data.\n"
   ]
  },
  {
   "cell_type": "code",
   "execution_count": 1,
   "metadata": {},
   "outputs": [
    {
     "data": {
      "text/html": [
       "<div>\n",
       "<style scoped>\n",
       "    .dataframe tbody tr th:only-of-type {\n",
       "        vertical-align: middle;\n",
       "    }\n",
       "\n",
       "    .dataframe tbody tr th {\n",
       "        vertical-align: top;\n",
       "    }\n",
       "\n",
       "    .dataframe thead th {\n",
       "        text-align: right;\n",
       "    }\n",
       "</style>\n",
       "<table border=\"1\" class=\"dataframe\">\n",
       "  <thead>\n",
       "    <tr style=\"text-align: right;\">\n",
       "      <th></th>\n",
       "      <th>City Neighborhood</th>\n",
       "      <th>2006-2010 estimate of obesity</th>\n",
       "    </tr>\n",
       "  </thead>\n",
       "  <tbody>\n",
       "    <tr>\n",
       "      <th>0</th>\n",
       "      <td>Northview Heights</td>\n",
       "      <td>0.922932</td>\n",
       "    </tr>\n",
       "    <tr>\n",
       "      <th>1</th>\n",
       "      <td>Fairywood</td>\n",
       "      <td>0.820311</td>\n",
       "    </tr>\n",
       "    <tr>\n",
       "      <th>2</th>\n",
       "      <td>Terrace-Village</td>\n",
       "      <td>0.793133</td>\n",
       "    </tr>\n",
       "    <tr>\n",
       "      <th>3</th>\n",
       "      <td>California-Kirkbride</td>\n",
       "      <td>0.771046</td>\n",
       "    </tr>\n",
       "    <tr>\n",
       "      <th>4</th>\n",
       "      <td>Saint-Clair</td>\n",
       "      <td>0.699500</td>\n",
       "    </tr>\n",
       "    <tr>\n",
       "      <th>5</th>\n",
       "      <td>Central-Business-District</td>\n",
       "      <td>0.668012</td>\n",
       "    </tr>\n",
       "    <tr>\n",
       "      <th>6</th>\n",
       "      <td>Homewood-South</td>\n",
       "      <td>0.660585</td>\n",
       "    </tr>\n",
       "    <tr>\n",
       "      <th>7</th>\n",
       "      <td>Lincoln-Lemington-Belmar</td>\n",
       "      <td>0.637099</td>\n",
       "    </tr>\n",
       "    <tr>\n",
       "      <th>8</th>\n",
       "      <td>Bedford-Dwellings</td>\n",
       "      <td>0.636222</td>\n",
       "    </tr>\n",
       "    <tr>\n",
       "      <th>9</th>\n",
       "      <td>Homewood-North</td>\n",
       "      <td>0.619584</td>\n",
       "    </tr>\n",
       "  </tbody>\n",
       "</table>\n",
       "</div>"
      ],
      "text/plain": [
       "           City Neighborhood  2006-2010 estimate of obesity\n",
       "0          Northview Heights                       0.922932\n",
       "1                  Fairywood                       0.820311\n",
       "2            Terrace-Village                       0.793133\n",
       "3       California-Kirkbride                       0.771046\n",
       "4                Saint-Clair                       0.699500\n",
       "5  Central-Business-District                       0.668012\n",
       "6             Homewood-South                       0.660585\n",
       "7   Lincoln-Lemington-Belmar                       0.637099\n",
       "8          Bedford-Dwellings                       0.636222\n",
       "9             Homewood-North                       0.619584"
      ]
     },
     "execution_count": 1,
     "metadata": {},
     "output_type": "execute_result"
    }
   ],
   "source": [
    "import pandas as pd\n",
    "\n",
    "# Load the data from a CSV file\n",
    "df = pd.read_csv('ObesityData.csv')\n",
    "\n",
    "# strip the data frame so it only contains the data (columns) that I want\n",
    "stripped_df = df[['City Neighborhood', '2006-2010 estimate of obesity']]\n",
    "\n",
    "#sort the data frame so that the obesity rates are in descending order. \n",
    "new_df_sorted = stripped_df.sort_values(by='2006-2010 estimate of obesity', ascending=False)\n",
    "\n",
    "# Reset the index to apply weight to eat Neighborhood (Find 1st place)\n",
    "new_df_sorted = new_df_sorted.reset_index(drop=True)\n",
    "\n",
    "pd.set_option('display.max_rows', None)\n",
    "\n",
    "# Print the entire dataframe\n",
    "new_df_sorted.head(10)\n",
    "\n"
   ]
  },
  {
   "cell_type": "code",
   "execution_count": 3,
   "metadata": {},
   "outputs": [
    {
     "data": {
      "text/plain": [
       "<matplotlib.axes._subplots.AxesSubplot at 0x7fe71ae606d0>"
      ]
     },
     "execution_count": 3,
     "metadata": {},
     "output_type": "execute_result"
    },
    {
     "data": {
      "image/png": "[encoded data removed]",
      "text/plain": [
       "<Figure size 432x288 with 1 Axes>"
      ]
     },
     "metadata": {
      "needs_background": "light"
     },
     "output_type": "display_data"
    }
   ],
   "source": [
    "new_df_sorted.set_index('City Neighborhood').head(10).plot(kind='bar')\n",
    "\n"
   ]
  },
  {
   "cell_type": "markdown",
   "metadata": {},
   "source": [
    "## Metric no. 1 Conculsion\n",
    "Many of the neighborhood towards the top of our list in terms of estimated rate of obesity are neighborhoods that I am not familiar with. The Neighborhood that I enjoy the most "
   ]
  },
  {
   "cell_type": "code",
   "execution_count": null,
   "metadata": {},
   "outputs": [],
   "source": []
  }
 ],
 "metadata": {
  "kernelspec": {
   "display_name": "Python 3",
   "language": "python",
   "name": "python3"
  },
  "language_info": {
   "codemirror_mode": {
    "name": "ipython",
    "version": 3
   },
   "file_extension": ".py",
   "mimetype": "text/x-python",
   "name": "python",
   "nbconvert_exporter": "python",
   "pygments_lexer": "ipython3",
   "version": "3.8.3"
  }
 },
 "nbformat": 4,
 "nbformat_minor": 4
}
