import pandas as pd

# Load the data from a CSV file
df = pd.read_csv('MyData.csv')

# strip the data frame so it only contains the data (columns) that I want
stipped_df = df[['City Neighborhood', '2006-2010 estimate of obesity']]

#sort the data frame so that the obesity rates are in descending order. 
new_df_sorted = new_df.sort_values(by='2006-2010 estimate of obesity', ascending=False)

# Reset the index to apply weight to eat Neighborhood (Find 1st place)
new_df_sorted = new_df_sorted.reset_index(drop=True)

new_df_sorted.head(50)
